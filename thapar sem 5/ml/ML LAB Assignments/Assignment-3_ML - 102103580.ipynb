{
 "cells": [
  {
   "cell_type": "code",
   "execution_count": 27,
   "id": "0bc60800",
   "metadata": {},
   "outputs": [],
   "source": [
    "import pandas as pd\n",
    "from sklearn.preprocessing import MinMaxScaler\n",
    "from sklearn.model_selection import train_test_split\n",
    "from sklearn import linear_model\n",
    "from sklearn.metrics import fbeta_score\n",
    "from sklearn.metrics import r2_score,mean_absolute_error\n",
    "import warnings\n",
    "warnings.filterwarnings('ignore')\n",
    "df = pd.read_csv('./USA_Housing.csv')"
   ]
  },
  {
   "cell_type": "markdown",
   "id": "e0fa07f0",
   "metadata": {},
   "source": [
    "#### Q1. K-Fold Cross Validation for Multiple Linear Regression (Least Square Error Fit)"
   ]
  },
  {
   "cell_type": "markdown",
   "id": "700e8cc4",
   "metadata": {},
   "source": [
    "Download the dataset regarding USA House Price Prediction from the following link:\n",
    "\n",
    "https://drive.google.com/file/d/1O_NwpJT-8xGfU_-3llUl2sgPu0xllOrX/view?usp=sharing\n",
    "\n",
    "Load the dataset and Implement 5- fold cross validation for multiple linear regression (using least square error fit).\n",
    "\n",
    "Steps:\n",
    "1. Divide the dataset into input features (all columns except price) and output variable\n",
    "(price)\n",
    "2. Scale the values of input features.\n",
    "3. Divide input and output features into five folds.\n",
    "4. Run five iterations, in each iteration consider one-fold as test set and remaining\n",
    "four sets as training set. Find the beta (𝛽) matrix, predicted values, and R2_score\n",
    "for each iteration using least square error fit.\n",
    "5. Use the best value of (𝛽) matrix (for which R2_score is maximum), to train the\n",
    "regressor for 70% of data and test the performance for remaining 30% data."
   ]
  },
  {
   "cell_type": "code",
   "execution_count": 28,
   "id": "798af5b0",
   "metadata": {},
   "outputs": [],
   "source": [
    "x = df[['Avg. Area Income','Avg. Area House Age','Avg. Area Number of Rooms','Avg. Area Number of Bedrooms','Area Population']]\n",
    "y = df[['Price']]"
   ]
  },
  {
   "cell_type": "code",
   "execution_count": 29,
   "id": "d3e961a5",
   "metadata": {},
   "outputs": [],
   "source": [
    "scaler = MinMaxScaler()\n",
    "x = pd.DataFrame(scaler.fit_transform(x), columns=x.columns)\n",
    "y = pd.DataFrame(scaler.fit_transform(y), columns=y.columns)"
   ]
  },
  {
   "cell_type": "code",
   "execution_count": 30,
   "id": "a3ead3c1",
   "metadata": {},
   "outputs": [
    {
     "name": "stdout",
     "output_type": "stream",
     "text": [
      "0.9186390166146279\n",
      "[[0.78888977 0.46637128 0.36741804 0.00327103 0.43562802]]\n"
     ]
    }
   ],
   "source": [
    "beta_mat = 0\n",
    "r2Score = 0\n",
    "max = -1\n",
    "for i in range(1,6):\n",
    "  x_train,x_test,y_train,y_test = train_test_split(x,y,test_size=0.30,random_state=i*10)\n",
    "  reg = linear_model.LinearRegression()\n",
    "  reg.fit(x_train,y_train)\n",
    "  predict_data = reg.predict(x_test)\n",
    "  score = r2_score(y_test,predict_data)\n",
    "  if score > r2Score :\n",
    "    r2Score = score\n",
    "    beta_mat = reg.coef_\n",
    "    max = i\n",
    "print(r2Score)\n",
    "print(beta_mat)"
   ]
  },
  {
   "cell_type": "code",
   "execution_count": 31,
   "id": "72b86ee9",
   "metadata": {},
   "outputs": [
    {
     "name": "stdout",
     "output_type": "stream",
     "text": [
      "0.03290858400261874\n"
     ]
    }
   ],
   "source": [
    "x_train,x_test,y_train,y_test = train_test_split(x,y,test_size=0.30,random_state=max*10)\n",
    "reg = linear_model.LinearRegression()\n",
    "reg.fit(x_train,y_train)\n",
    "predict_data = reg.predict(x_test)\n",
    "score = r2_score(y_test,predict_data)\n",
    "print(mean_absolute_error(y_test,predict_data))"
   ]
  },
  {
   "cell_type": "markdown",
   "id": "4e794cd5",
   "metadata": {},
   "source": [
    "#### Q2. Concept of Validation set for Multiple Linear Regression (Gradient Descent Optimization)"
   ]
  },
  {
   "cell_type": "markdown",
   "id": "5320c9d6",
   "metadata": {},
   "source": [
    "Consider the same dataset of Q1, rather than dividing the dataset into five folds, divide the\n",
    "dataset into training set (56%), validation set (14%), and test set (30%).\n",
    "Consider four different values of learning rate i.e. {0.001,0.01,0.1,1}. Compute the values of\n",
    "regression coefficients for each value of learning rate after 1000 iterations.\n",
    "For each set of regression coefficients, compute R2_score for validation and test set and find\n",
    "the best value of regression coefficients. "
   ]
  },
  {
   "cell_type": "code",
   "execution_count": 32,
   "id": "06327708",
   "metadata": {},
   "outputs": [
    {
     "name": "stdout",
     "output_type": "stream",
     "text": [
      "0.812229589140265\n",
      "0.8052658928201835\n",
      "[[-0.21830241]\n",
      " [ 0.49780189]\n",
      " [ 0.3419852 ]\n",
      " [ 0.21325894]\n",
      " [ 0.02454439]\n",
      " [ 0.29697894]]\n"
     ]
    }
   ],
   "source": [
    "import pandas as pd\n",
    "import numpy as np\n",
    "from random import randrange\n",
    "from sklearn.metrics import r2_score\n",
    "\n",
    "def train_test_split(dataset,split):\n",
    "    train=pd.DataFrame()\n",
    "    train_size = split*len(dataset)\n",
    "    dataset_copy = dataset.copy()\n",
    "    while len(train) < train_size:\n",
    "        index = randrange(len(dataset_copy))\n",
    "        train = train.append(dataset_copy.iloc[index],ignore_index=True)\n",
    "        dataset_copy = dataset_copy.drop(labels=index,axis=0)\n",
    "        temp = pd.DataFrame()\n",
    "        temp = temp.append(dataset_copy,ignore_index=True)\n",
    "        dataset_copy=temp\n",
    "    return train,dataset_copy\n",
    "\n",
    "# Regression model using gradient descent method\n",
    "def model(X,Y,learning_rate,iterations):\n",
    "    m=Y.size\n",
    "    theta=np.zeros((X.shape[1],1))\n",
    "    cost_list=[]\n",
    "    for i in range(iterations):\n",
    "        y_pred=np.dot(X,theta)\n",
    "        cost=(1/(2*m))*np.sum(np.square(y_pred-Y))\n",
    "        d_theta=(1/m)*np.dot(X.T,y_pred-Y)\n",
    "        theta=theta-learning_rate*d_theta\n",
    "        cost_list.append(cost)\n",
    "    return theta,cost_list\n",
    "  \n",
    "df = pd.read_csv('./USA_Housing.csv')\n",
    "\n",
    "# Normalization\n",
    "df=(df-df.min())/(df.max()-df.min())\n",
    "\n",
    "beta_mat = []\n",
    "beta_mat = np.array(beta_mat)\n",
    "r2Score_validate = -1000\n",
    "r2Score_test = -1000\n",
    "df_train_validate,df_test = train_test_split(df,0.7)\n",
    "df_train,df_validate = train_test_split(df_train_validate,0.8)\n",
    "x_train = df_train[['Avg. Area Income','Avg. Area House Age','Avg. Area Number of Rooms','Avg. Area Number of Bedrooms','Area Population']]\n",
    "y_train = df_train[['Price']]\n",
    "x_validate = df_validate[['Avg. Area Income','Avg. Area House Age','Avg. Area Number of Rooms','Avg. Area Number of Bedrooms','Area Population']]\n",
    "y_validate = df_validate[['Price']]\n",
    "x_test = df_test[['Avg. Area Income','Avg. Area House Age','Avg. Area Number of Rooms','Avg. Area Number of Bedrooms','Area Population']]\n",
    "y_test = df_test[['Price']]\n",
    "xnew=np.vstack((np.ones((x_train.shape[0],)),x_train.T)).T \n",
    "x_test=np.vstack((np.ones((x_test.shape[0],)),x_test.T)).T \n",
    "x_validate=np.vstack((np.ones((x_validate.shape[0],)),x_validate.T)).T\n",
    "for i in range(1,5):\n",
    "    iterations=1000\n",
    "    learning_rate=0.0001*(10**i)\n",
    "    theta,cost_list=model(xnew,y_train,learning_rate=learning_rate,iterations=iterations)\n",
    "    y_pred_validate=np.dot(x_validate,theta)\n",
    "    y_pred_test = np.dot(x_test,theta)\n",
    "\n",
    "    r2_score_validate = r2_score(np.array(y_validate),np.array(y_pred_validate))\n",
    "    r2_score_test = r2_score(np.array(y_test),np.array(y_pred_test))\n",
    "\n",
    "    if r2_score_validate > r2Score_validate:\n",
    "        r2Score_validate = r2_score_validate\n",
    "        beta_mat = theta.copy()\n",
    "\n",
    "    if r2_score_test > r2Score_test:\n",
    "        r2Score_test = r2_score_test\n",
    "        beta_mat = theta.copy()\n",
    "        \n",
    "print(r2Score_test)\n",
    "print(r2Score_validate)\n",
    "print(beta_mat)"
   ]
  },
  {
   "cell_type": "markdown",
   "id": "95610ba5",
   "metadata": {},
   "source": [
    "#### Q3. Pre-processing and Multiple Linear Regression"
   ]
  },
  {
   "cell_type": "markdown",
   "id": "a4fe49f5",
   "metadata": {},
   "source": [
    "Download the dataset regarding Car Price Prediction from the following link:\n",
    "https://archive.ics.uci.edu/ml/machine-learning-databases/autos/imports-85.data\n",
    "1. Load the dataset with following column names [\"symboling\", \"normalized_losses\",\n",
    "\"make\", \"fuel_type\", \"aspiration\",\"num_doors\", \"body_style\", \"drive_wheels\",\n",
    "\"engine_location\", \"wheel_base\", \"length\", \"width\", \"height\", \"curb_weight\",\n",
    "\"engine_type\", \"num_cylinders\", \"engine_size\", \"fuel_system\", \"bore\", \"stroke\",\n",
    "\"compression_ratio\", \"horsepower\", \"peak_rpm\", \"city_mpg\", \"highway_mpg\", \"price\"]\n",
    "and replace all ? values with NaN\n",
    "2. Replace all NaN values with central tendency imputation. Drop the rows with NaN\n",
    "values in price column\n",
    "3. There are 10 columns in the dataset with non-numeric values. Convert these values to\n",
    "numeric values using following scheme:\n",
    "(i) For “num_doors” and “num_cylinders”: convert words (number names) to figures\n",
    "for e.g., two to 2\n",
    "(ii) For \"body_style\", \"drive_wheels\": use dummy encoding scheme\n",
    "(iii) For “make”, “aspiration”, “engine_location”,fuel_type: use label encoding\n",
    "scheme\n",
    "(iv) For fuel_system: replace values containing string pfi to 1 else all values to 0.\n",
    "(v) For engine_type: replace values containing string ohc to 1 else all values to 0.\n",
    "4. Divide the dataset into input features (all columns except price) and output variable\n",
    "(price). Scale all input features.\n",
    "5. Train a linear regressor on 70% of data (using inbuilt linear regression function of\n",
    "Python) and test its performance on remaining 30% of data.\n",
    "6. Reduce the dimensionality of the feature set using inbuilt PCA decomposition and then\n",
    "again train a linear regressor on 70% of reduced data (using inbuilt linear regression\n",
    "function of Python). Does it lead to any performance improvement on test set? "
   ]
  },
  {
   "cell_type": "code",
   "execution_count": 33,
   "id": "35ac0075",
   "metadata": {},
   "outputs": [
    {
     "name": "stdout",
     "output_type": "stream",
     "text": [
      "0.07090671807263883\n",
      "0.07206866300682549\n"
     ]
    }
   ],
   "source": [
    "import pandas as pd\n",
    "from sklearn.preprocessing import MinMaxScaler,LabelEncoder\n",
    "from sklearn.impute import SimpleImputer\n",
    "from sklearn.metrics import mean_absolute_error\n",
    "from word2number import w2n\n",
    "from sklearn.linear_model import LinearRegression\n",
    "from sklearn.model_selection import train_test_split\n",
    "from sklearn.decomposition import PCA\n",
    "\n",
    "df = pd.read_csv('./imports-85.data')\n",
    "df.columns = [\"symboling\", \"normalized_losses\",\"make\", \"fuel_type\", \"aspiration\",\"num_doors\", \"body_style\", \"drive_wheels\",\"engine_location\", \"wheel_base\", \"length\", \"width\", \"height\", \"curb_weight\",\"engine_type\", \"num_cylinders\", \"engine_size\", \"fuel_system\", \"bore\", \"stroke\",\"compression_ratio\", \"horsepower\", \"peak_rpm\", \"city_mpg\", \"highway_mpg\", \"price\"]\n",
    "df = df.replace(\"?\",\"NaN\")\n",
    "df = df[df.price!=\"NaN\"]\n",
    "\n",
    "imputer = SimpleImputer(missing_values = \"NaN\",strategy = \"most_frequent\")\n",
    "imputer = imputer.fit(df)\n",
    "df= imputer.transform(df)\n",
    "df = pd.DataFrame(df)\n",
    "df.columns = [\"symboling\", \"normalized_losses\",\"make\", \"fuel_type\", \"aspiration\",\"num_doors\", \"body_style\", \"drive_wheels\",\"engine_location\", \"wheel_base\", \"length\", \"width\", \"height\", \"curb_weight\",\"engine_type\", \"num_cylinders\", \"engine_size\", \"fuel_system\", \"bore\", \"stroke\",\"compression_ratio\", \"horsepower\", \"peak_rpm\", \"city_mpg\", \"highway_mpg\", \"price\"]\n",
    "\n",
    "for i in range(0,df.shape[0]):\n",
    "    df[\"num_doors\"][i]=w2n.word_to_num(df[\"num_doors\"][i])\n",
    "for i in range(0,df.shape[0]):\n",
    "    df[\"num_cylinders\"][i]=w2n.word_to_num(df[\"num_cylinders\"][i])\n",
    "    \n",
    "encoded_body=pd.get_dummies(df['body_style'])\n",
    "encoded_wheels=pd.get_dummies(df['drive_wheels'])\n",
    "df=df.drop(['body_style'],axis=1)\n",
    "df=df.drop(['drive_wheels'],axis=1)\n",
    "frames = [df, encoded_body]\n",
    "  \n",
    "df = pd.concat(frames,axis=1)\n",
    "label_encoder = LabelEncoder()\n",
    "df[\"make\"]=label_encoder.fit_transform(df[\"make\"])\n",
    "df[\"aspiration\"]=label_encoder.fit_transform(df[\"aspiration\"])\n",
    "df[\"engine_location\"]=label_encoder.fit_transform(df[\"engine_location\"])\n",
    "df[\"fuel_type\"]=label_encoder.fit_transform(df[\"fuel_type\"])\n",
    "\n",
    "for i in range(0,df.shape[0]):\n",
    "    if df[\"fuel_system\"][i].find(\"pfi\")!=-1:\n",
    "        df[\"fuel_system\"][i]=1\n",
    "    else:\n",
    "        df[\"fuel_system\"][i]=0\n",
    "        \n",
    "for i in range(0,df.shape[0]):\n",
    "    if df[\"engine_type\"][i].find(\"ohc\")!=-1:\n",
    "        df[\"engine_type\"][i]=1\n",
    "    else:\n",
    "        df[\"engine_type\"][i]=0\n",
    "        \n",
    "x = df.drop([\"price\"],axis=1)\n",
    "y = df[[\"price\"]]\n",
    "\n",
    "scaler = MinMaxScaler()\n",
    "\n",
    "x = pd.DataFrame(scaler.fit_transform(x), columns=x.columns)\n",
    "y = pd.DataFrame(scaler.fit_transform(y), columns=y.columns)\n",
    "\n",
    "model=LinearRegression()\n",
    "X_train,X_test,Y_train,Y_test=train_test_split(x,y,train_size=0.7,random_state=0)\n",
    "final_model=model.fit(X_train,Y_train)\n",
    "Y_predicted_final=model.predict(X_test)\n",
    "print(mean_absolute_error(Y_test,Y_predicted_final))\n",
    "\n",
    "pca = PCA(n_components = 20)\n",
    "pca.fit(x)\n",
    "x = pca.transform(x)\n",
    "x = pd.DataFrame(x)\n",
    "model=LinearRegression()\n",
    "X_train,X_test,Y_train,Y_test=train_test_split(x,y,train_size=0.7,random_state=0)\n",
    "final_model=model.fit(X_train,Y_train)\n",
    "Y_predicted_final=model.predict(X_test)\n",
    "print(mean_absolute_error(Y_test,Y_predicted_final))"
   ]
  }
 ],
 "metadata": {
  "kernelspec": {
   "display_name": "Python 3 (ipykernel)",
   "language": "python",
   "name": "python3"
  },
  "language_info": {
   "codemirror_mode": {
    "name": "ipython",
    "version": 3
   },
   "file_extension": ".py",
   "mimetype": "text/x-python",
   "name": "python",
   "nbconvert_exporter": "python",
   "pygments_lexer": "ipython3",
   "version": "3.9.7"
  }
 },
 "nbformat": 4,
 "nbformat_minor": 5
}
