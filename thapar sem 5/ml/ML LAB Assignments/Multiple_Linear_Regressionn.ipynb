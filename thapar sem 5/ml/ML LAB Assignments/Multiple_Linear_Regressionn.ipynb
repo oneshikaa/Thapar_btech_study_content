{
 "cells": [
  {
   "cell_type": "code",
   "execution_count": 13,
   "metadata": {},
   "outputs": [
    {
     "name": "stdout",
     "output_type": "stream",
     "text": [
      "Mean Absolute Error\n",
      "7400.616305036956\n",
      "Mean Square Error\n",
      "78413822.17201321\n",
      "Root Mean Square Error\n",
      "8855.157941675192\n"
     ]
    },
    {
     "data": {
      "text/plain": [
       "\"\\n# 7. Model building: building the linear model\\nfrom sklearn.linear_model import LinearRegression # import class linear regression from sklearn\\nlinear_regressor = LinearRegression() # create an objet of class linear regressor\\nlinear_regressor.fit(X_train, Y_train) #to draw best fit line\\n\\n\\n# Predicting the Test set results\\nY_pred = linear_regressor.predict(X_test) \\n\\n# Model Evaluation\\n# Importing metrics library\\nfrom sklearn import metrics\\n# Evaluating the model and printing the value of MAE\\nprint('Mean Absolute Error')\\nprint(metrics.mean_absolute_error(Y_test, Y_pred))\\n# Evaluating the model and printing the value of MSE\\nprint('Mean Square Error')\\nprint(metrics.mean_squared_error(Y_test, Y_pred))\\n# Evaluating the model and printing the value of RMSE\\nprint('Root Mean Square Error')\\nprint(np.sqrt(metrics.mean_squared_error(Y_test, Y_pred)))\\n\\n\""
      ]
     },
     "execution_count": 13,
     "metadata": {},
     "output_type": "execute_result"
    }
   ],
   "source": [
    "#1. Importing the Libraries\n",
    "\n",
    "# Importing the Libraries\n",
    "import numpy as np\n",
    "import pandas as pd\n",
    "#import matplotlib.pyplot as plt\n",
    "\n",
    "#Data Acquistion\n",
    "dataset = pd.read_csv('AD.csv')\n",
    "\n",
    "#Creating Data Frames\n",
    "X = dataset.iloc[:, :- 1].values\n",
    "Y = dataset.iloc[:, 4].values\n",
    "\n",
    "#Label Encoding\n",
    "from sklearn.preprocessing import LabelEncoder\n",
    "labelencoder = LabelEncoder()\n",
    "X[:, 3] = labelencoder.fit_transform(X[:, 3])\n",
    "\n",
    "\n",
    "from sklearn.linear_model import LinearRegression # import class linear regression from sklearn\n",
    "linear_regressor = LinearRegression() # create an objet of class linear regressor\n",
    "linear_regressor.fit(X_train, Y_train) #to draw best fit line\n",
    "Y_pred = linear_regressor.predict(X_test) \n",
    "from sklearn import metrics\n",
    "# Evaluating the model and printing the value of MAE\n",
    "print('Mean Absolute Error')\n",
    "print(metrics.mean_absolute_error(Y_test, Y_pred))\n",
    "# Evaluating the model and printing the value of MSE\n",
    "print('Mean Square Error')\n",
    "print(metrics.mean_squared_error(Y_test, Y_pred))\n",
    "# Evaluating the model and printing the value of RMSE\n",
    "print('Root Mean Square Error')\n",
    "print(np.sqrt(metrics.mean_squared_error(Y_test, Y_pred)))\n",
    "\n",
    "#print(X[0:5,:])\n",
    "\n",
    "#One-hot encoding\n",
    "#One-hot encoding categorical attribute city\n",
    "#from sklearn.preprocessing import OneHotEncoder\n",
    "#from sklearn.compose import ColumnTransformer\n",
    "#ct = ColumnTransformer(transformers=[('encoder', OneHotEncoder(), [3])], remainder='passthrough')\n",
    "#X = np.array(ct.fit_transform(X))\n",
    "#print(X)\n",
    "\n",
    "# Avoiding the Dummy Variable Trap\n",
    "#X = X[:, 1:]\n",
    "\n",
    "# \n",
    "\n",
    "\n",
    "\"\"\"\n",
    "# 7. Model building: building the linear model\n",
    "from sklearn.linear_model import LinearRegression # import class linear regression from sklearn\n",
    "linear_regressor = LinearRegression() # create an objet of class linear regressor\n",
    "linear_regressor.fit(X_train, Y_train) #to draw best fit line\n",
    "\n",
    "\n",
    "# Predicting the Test set results\n",
    "Y_pred = linear_regressor.predict(X_test) \n",
    "\n",
    "# Model Evaluation\n",
    "# Importing metrics library\n",
    "from sklearn import metrics\n",
    "# Evaluating the model and printing the value of MAE\n",
    "print('Mean Absolute Error')\n",
    "print(metrics.mean_absolute_error(Y_test, Y_pred))\n",
    "# Evaluating the model and printing the value of MSE\n",
    "print('Mean Square Error')\n",
    "print(metrics.mean_squared_error(Y_test, Y_pred))\n",
    "# Evaluating the model and printing the value of RMSE\n",
    "print('Root Mean Square Error')\n",
    "print(np.sqrt(metrics.mean_squared_error(Y_test, Y_pred)))\n",
    "\n",
    "\"\"\""
   ]
  },
  {
   "cell_type": "code",
   "execution_count": null,
   "metadata": {},
   "outputs": [],
   "source": []
  }
 ],
 "metadata": {
  "kernelspec": {
   "display_name": "Python 3",
   "language": "python",
   "name": "python3"
  },
  "language_info": {
   "codemirror_mode": {
    "name": "ipython",
    "version": 3
   },
   "file_extension": ".py",
   "mimetype": "text/x-python",
   "name": "python",
   "nbconvert_exporter": "python",
   "pygments_lexer": "ipython3",
   "version": "3.7.3"
  }
 },
 "nbformat": 4,
 "nbformat_minor": 2
}
